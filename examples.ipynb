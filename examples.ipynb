{
 "cells": [
  {
   "cell_type": "markdown",
   "metadata": {},
   "source": [
    "# Overlap less or more than % (examples)"
   ]
  },
  {
   "cell_type": "markdown",
   "metadata": {},
   "source": [
    "change function to sharedProportion\n",
    "add new code to github"
   ]
  },
  {
   "cell_type": "code",
   "execution_count": 6,
   "metadata": {},
   "outputs": [],
   "source": [
    "#libraries\n",
    "import geopandas as gpd\n",
    "import psycopg2\n",
    "import pprint\n",
    "%matplotlib inline"
   ]
  },
  {
   "cell_type": "code",
   "execution_count": 7,
   "metadata": {},
   "outputs": [],
   "source": [
    "#connect to database\n",
    "conn = psycopg2.connect('dbname=gis user=carlos')\n",
    "cursor = conn.cursor()"
   ]
  },
  {
   "cell_type": "code",
   "execution_count": 8,
   "metadata": {},
   "outputs": [
    {
     "data": {
      "text/plain": [
       "<matplotlib.axes._subplots.AxesSubplot at 0x7f8f63864860>"
      ]
     },
     "execution_count": 8,
     "metadata": {},
     "output_type": "execute_result"
    },
    {
     "data": {
      "image/png": "[encoded data removed]",
      "text/plain": [
       "<Figure size 432x288 with 1 Axes>"
      ]
     },
     "metadata": {},
     "output_type": "display_data"
    }
   ],
   "source": [
    "#create polygons that overlap exactly 10%\n",
    "query = 'SELECT \\\n",
    "    ST_MakeBox2D(ST_Point(0,0), ST_Point(10,10))::geometry AS geom, \\\n",
    "    1 AS color \\\n",
    "    UNION \\\n",
    "    SELECT \\\n",
    "    ST_MakeBox2D(ST_Point(9,9), ST_Point(19,19))::geometry AS geom, \\\n",
    "    2 AS color;'\n",
    "df = gpd.GeoDataFrame.from_postgis(query, conn, geom_col='geom')\n",
    "df.plot(column='color')"
   ]
  },
  {
   "cell_type": "code",
   "execution_count": 9,
   "metadata": {},
   "outputs": [
    {
     "name": "stdout",
     "output_type": "stream",
     "text": [
      "[(True,)]\n"
     ]
    }
   ],
   "source": [
    "#test overlap by less than 10%\n",
    "query = 'SELECT \\\n",
    "     overlapLessThan( \\\n",
    "     ST_MakeBox2D(ST_Point(0,0), ST_Point(10,10))::geometry, \\\n",
    "     ST_MakeBox2D(ST_Point(9,9), ST_Point(19,19))::geometry, \\\n",
    "     .10)'\n",
    "cursor.execute(query)\n",
    "rows = cursor.fetchall()  \n",
    "pprint.pprint(rows)"
   ]
  },
  {
   "cell_type": "code",
   "execution_count": 10,
   "metadata": {},
   "outputs": [
    {
     "name": "stdout",
     "output_type": "stream",
     "text": [
      "[(True,)]\n"
     ]
    }
   ],
   "source": [
    "#test overlap by less than 1%\n",
    "query = 'SELECT \\\n",
    "     overlapLessThan( \\\n",
    "     ST_MakeBox2D(ST_Point(0,0), ST_Point(10,10))::geometry, \\\n",
    "     ST_MakeBox2D(ST_Point(9,9), ST_Point(19,19))::geometry, \\\n",
    "     .01);'\n",
    "cursor.execute(query)\n",
    "rows = cursor.fetchall()  \n",
    "pprint.pprint(rows)"
   ]
  },
  {
   "cell_type": "code",
   "execution_count": 11,
   "metadata": {},
   "outputs": [
    {
     "name": "stdout",
     "output_type": "stream",
     "text": [
      "[(False,)]\n"
     ]
    }
   ],
   "source": [
    "#test overlap by more than 10%\n",
    "query = 'SELECT \\\n",
    "     overlapMoreThan( \\\n",
    "     ST_MakeBox2D(ST_Point(0,0), ST_Point(10,10))::geometry, \\\n",
    "     ST_MakeBox2D(ST_Point(9,9), ST_Point(19,19))::geometry, \\\n",
    "     .10);'\n",
    "cursor.execute(query)\n",
    "rows = cursor.fetchall()  \n",
    "pprint.pprint(rows)"
   ]
  },
  {
   "cell_type": "code",
   "execution_count": 12,
   "metadata": {},
   "outputs": [
    {
     "name": "stdout",
     "output_type": "stream",
     "text": [
      "[(True,)]\n"
     ]
    }
   ],
   "source": [
    "#test overlap by more than 0.9%\n",
    "query = 'SELECT \\\n",
    "     overlapMoreThan( \\\n",
    "     ST_MakeBox2D(ST_Point(0,0), ST_Point(10,10))::geometry, \\\n",
    "     ST_MakeBox2D(ST_Point(9,9), ST_Point(19,19))::geometry, \\\n",
    "     .009);'\n",
    "cursor.execute(query)\n",
    "rows = cursor.fetchall()  \n",
    "pprint.pprint(rows)"
   ]
  },
  {
   "cell_type": "code",
   "execution_count": 13,
   "metadata": {},
   "outputs": [],
   "source": [
    "conn.close() "
   ]
  },
  {
   "cell_type": "markdown",
   "metadata": {},
   "source": [
    "# Simplify map"
   ]
  },
  {
   "cell_type": "code",
   "execution_count": 18,
   "metadata": {},
   "outputs": [],
   "source": [
    "#libraries\n",
    "import geopandas as gpd\n",
    "import psycopg2\n",
    "import pprint\n",
    "%matplotlib inline"
   ]
  },
  {
   "cell_type": "code",
   "execution_count": 24,
   "metadata": {},
   "outputs": [],
   "source": [
    "#connect to database\n",
    "conn = psycopg2.connect('dbname=gis user=carlos')\n",
    "cursor = conn.cursor()"
   ]
  },
  {
   "cell_type": "code",
   "execution_count": 25,
   "metadata": {},
   "outputs": [
    {
     "data": {
      "text/plain": [
       "<matplotlib.axes._subplots.AxesSubplot at 0x7f8f61bbe2e8>"
      ]
     },
     "execution_count": 25,
     "metadata": {},
     "output_type": "execute_result"
    },
    {
     "data": {
      "image/png": "[encoded data removed]",
      "text/plain": [
       "<Figure size 432x288 with 1 Axes>"
      ]
     },
     "metadata": {},
     "output_type": "display_data"
    }
   ],
   "source": [
    "#display roads\n",
    "query = \"SELECT \\\n",
    "    * \\\n",
    "    FROM \\\n",
    "    public.planet_osm_roads \\\n",
    "    WHERE \\\n",
    "    planet_osm_roads.highway IN ('motorway', 'motorway_link');\"\n",
    "df = gpd.GeoDataFrame.from_postgis(query, conn, geom_col='way')\n",
    "df.plot()"
   ]
  },
  {
   "cell_type": "code",
   "execution_count": 26,
   "metadata": {},
   "outputs": [
    {
     "data": {
      "text/plain": [
       "12043"
      ]
     },
     "execution_count": 26,
     "metadata": {},
     "output_type": "execute_result"
    }
   ],
   "source": [
    "#too many lines for such small map\n",
    "df[\"osm_id\"].count()"
   ]
  },
  {
   "cell_type": "code",
   "execution_count": 27,
   "metadata": {},
   "outputs": [
    {
     "data": {
      "text/plain": [
       "<matplotlib.axes._subplots.AxesSubplot at 0x7f8f637daf98>"
      ]
     },
     "execution_count": 27,
     "metadata": {},
     "output_type": "execute_result"
    },
    {
     "data": {
      "image/png": "[encoded data removed]",
      "text/plain": [
       "<Figure size 432x288 with 1 Axes>"
      ]
     },
     "metadata": {},
     "output_type": "display_data"
    }
   ],
   "source": [
    "#simplifying map\n",
    "query = \"SELECT \\\n",
    "  simplifyMap(ST_Collect(planet_osm_roads.way), 10000) AS geom \\\n",
    "  FROM \\\n",
    "  public.planet_osm_roads \\\n",
    "  WHERE \\\n",
    "  planet_osm_roads.highway IN ('motorway', 'motorway_link');\"\n",
    "df = gpd.GeoDataFrame.from_postgis(query, conn, geom_col='geom')\n",
    "df.plot()"
   ]
  },
  {
   "cell_type": "code",
   "execution_count": null,
   "metadata": {},
   "outputs": [],
   "source": [
    "#too many lines for such small map\n",
    "df[\"osm_id\"].count()"
   ]
  },
  {
   "cell_type": "code",
   "execution_count": null,
   "metadata": {},
   "outputs": [],
   "source": []
  }
 ],
 "metadata": {
  "kernelspec": {
   "display_name": "Python 3",
   "language": "python",
   "name": "python3"
  },
  "language_info": {
   "codemirror_mode": {
    "name": "ipython",
    "version": 3
   },
   "file_extension": ".py",
   "mimetype": "text/x-python",
   "name": "python",
   "nbconvert_exporter": "python",
   "pygments_lexer": "ipython3",
   "version": "3.6.7"
  }
 },
 "nbformat": 4,
 "nbformat_minor": 2
}
